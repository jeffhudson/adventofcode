{
 "cells": [
  {
   "cell_type": "code",
   "execution_count": 2,
   "metadata": {
    "collapsed": true
   },
   "outputs": [],
   "source": [
    "import hashlib\n",
    "input = \"yzbqklnj\""
   ]
  },
  {
   "cell_type": "code",
   "execution_count": 3,
   "metadata": {
    "collapsed": false
   },
   "outputs": [],
   "source": [
    "m=hashlib.md5()\n",
    "m.update(input)"
   ]
  },
  {
   "cell_type": "code",
   "execution_count": 14,
   "metadata": {
    "collapsed": false,
    "scrolled": true
   },
   "outputs": [
    {
     "name": "stdout",
     "output_type": "stream",
     "text": [
      "0\n",
      "282749\n"
     ]
    }
   ],
   "source": [
    "counter = 0\n",
    "found = False\n",
    "while (not found):\n",
    "    new = m.copy()\n",
    "    new.update(str(counter))\n",
    "    hexd = new.hexdigest()\n",
    "    if hexd[0:5] == \"00000\":\n",
    "        found = True\n",
    "        counter -= 1\n",
    "    counter += 1\n",
    "print counter"
   ]
  },
  {
   "cell_type": "code",
   "execution_count": null,
   "metadata": {
    "collapsed": true
   },
   "outputs": [],
   "source": [
    "## PART TWO"
   ]
  },
  {
   "cell_type": "code",
   "execution_count": 18,
   "metadata": {
    "collapsed": false
   },
   "outputs": [
    {
     "name": "stdout",
     "output_type": "stream",
     "text": [
      "9962624\n"
     ]
    }
   ],
   "source": [
    "counter = 0\n",
    "found = False\n",
    "while (not found):\n",
    "    new = m.copy()\n",
    "    new.update(str(counter))\n",
    "    hexd = new.hexdigest()\n",
    "    if hexd[0:6] == \"000000\":\n",
    "        found = True\n",
    "        counter -= 1\n",
    "    counter += 1\n",
    "print counter"
   ]
  }
 ],
 "metadata": {
  "kernelspec": {
   "display_name": "Python 2",
   "language": "python",
   "name": "python2"
  },
  "language_info": {
   "codemirror_mode": {
    "name": "ipython",
    "version": 2
   },
   "file_extension": ".py",
   "mimetype": "text/x-python",
   "name": "python",
   "nbconvert_exporter": "python",
   "pygments_lexer": "ipython2",
   "version": "2.7.11"
  }
 },
 "nbformat": 4,
 "nbformat_minor": 0
}
